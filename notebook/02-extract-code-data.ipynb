{
 "cells": [
  {
   "cell_type": "markdown",
   "metadata": {},
   "source": [
    "### Copilot chat\n",
    "\n",
    "extracted-crawling-petitions-assembly-list.csv 파일을 읽어서 코드 데이터만 추출해서 extracted-code-data.csv 파일을 만드는 파이썬 코드를 만들꺼야. \n",
    "코드 데이터를 만드는 조건은 다음과 같아.\n",
    "\n",
    "- 결과 csv layout은 3개의 컬럼(Group name, Code, Name)으로 구성.\n",
    "- 결과 csv 컬럼의 헤더 타입은 text, 사이즈는 255 byte.\n",
    "- 대상 CSV에서 코드 데이터 쌍은 다음과 같고, 결과 csv layout의 Code , Name 값에 셋팅<br/>\n",
    "petitRealmCode : petitRealmNm<br/>\n",
    "petitRealmDetailCode : petitRealmDetailNm<br/>\n",
    "jrsdCmitCode : jrsdCmitNm<br/>\n",
    "sttusCode : sttusCodeNm<br/>\n",
    "resultCode : resultCodeNm<br/>\n",
    "jdgmnStepCode : jdgmnStepCodeNm<br/>\n",
    "petitUnacptCode : petitUnacptCodeNm<br/>\n",
    "- 결과 csv의 Group name 은 대상 CSV에서 Code로 끝나는 헤더명을 셋팅.\n",
    "- 결과 csv에서 Group Name, Code, Name은 중복 될 수 없음.\n",
    "- 결과 csv를 생성할 때 Group Name, Code, Name 오름차순으로 정렬."
   ]
  },
  {
   "cell_type": "code",
   "execution_count": 1,
   "metadata": {},
   "outputs": [],
   "source": [
    "# 셀1: 필요한 라이브러리 임포트\n",
    "import pandas as pd"
   ]
  },
  {
   "cell_type": "code",
   "execution_count": 2,
   "metadata": {},
   "outputs": [],
   "source": [
    "# 셀2: 원본 CSV 파일 읽기\n",
    "df = pd.read_csv('extracted-crawling-petitions-assembly-list.csv')"
   ]
  },
  {
   "cell_type": "code",
   "execution_count": 3,
   "metadata": {},
   "outputs": [],
   "source": [
    "# 셀3: 코드 데이터 쌍 정의\n",
    "code_pairs = {\n",
    "    'petitRealmCode': 'petitRealmNm',\n",
    "    'petitRealmDetailCode': 'petitRealmDetailNm',\n",
    "    'jrsdCmitCode': 'jrsdCmitNm',\n",
    "    'sttusCode': 'sttusCodeNm',\n",
    "    'resultCode': 'resultCodeNm',\n",
    "    'jdgmnStepCode': 'jdgmnStepCodeNm',\n",
    "    'petitUnacptCode': 'petitUnacptCodeNm'\n",
    "}"
   ]
  },
  {
   "cell_type": "code",
   "execution_count": 4,
   "metadata": {},
   "outputs": [],
   "source": [
    "# 셀4: 결과를 저장할 리스트 초기화 및 코드 데이터 추출\n",
    "result = []\n",
    "\n",
    "# 코드 데이터 추출\n",
    "for code, name in code_pairs.items():\n",
    "    if code in df.columns and name in df.columns:\n",
    "        group_name = code\n",
    "        for idx, row in df.iterrows():\n",
    "            result.append([group_name, row[code], row[name]])"
   ]
  },
  {
   "cell_type": "code",
   "execution_count": 5,
   "metadata": {},
   "outputs": [],
   "source": [
    "# 셀5: DataFrame으로 변환\n",
    "result_df = pd.DataFrame(result, columns=['Group name', 'Code', 'Name'])"
   ]
  },
  {
   "cell_type": "code",
   "execution_count": 6,
   "metadata": {},
   "outputs": [],
   "source": [
    "# 셀6: 중복 제거\n",
    "result_df.drop_duplicates(inplace=True)"
   ]
  },
  {
   "cell_type": "code",
   "execution_count": 7,
   "metadata": {},
   "outputs": [],
   "source": [
    "# 셀7: 오름차순 정렬\n",
    "result_df.sort_values(by=['Group name', 'Code', 'Name'], inplace=True)"
   ]
  },
  {
   "cell_type": "code",
   "execution_count": 8,
   "metadata": {},
   "outputs": [
    {
     "name": "stdout",
     "output_type": "stream",
     "text": [
      "CSV 파일이 생성되었습니다: extracted-code-data.csv\n"
     ]
    }
   ],
   "source": [
    "# 셀8: 결과 CSV 파일로 저장\n",
    "result_df.to_csv('extracted-code-data.csv', index=False, header=True)\n",
    "\n",
    "print(f'CSV 파일이 생성되었습니다: extracted-code-data.csv')"
   ]
  }
 ],
 "metadata": {
  "kernelspec": {
   "display_name": ".venv",
   "language": "python",
   "name": "python3"
  },
  "language_info": {
   "codemirror_mode": {
    "name": "ipython",
    "version": 3
   },
   "file_extension": ".py",
   "mimetype": "text/x-python",
   "name": "python",
   "nbconvert_exporter": "python",
   "pygments_lexer": "ipython3",
   "version": "3.10.14"
  }
 },
 "nbformat": 4,
 "nbformat_minor": 2
}
