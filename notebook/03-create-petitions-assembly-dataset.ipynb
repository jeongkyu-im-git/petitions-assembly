{
 "cells": [
  {
   "cell_type": "markdown",
   "metadata": {},
   "source": [
    "### Copilot chat\n",
    "\n",
    "원본 csv 파일에서 추출된 컬럼을 데이터 매핑하여 새로운 csv 파일을 만드는 파이썬 코드를 만드는데 아래 조건을 만족해야해.\n",
    "\n",
    "- 원본 CSV : extracted-crawling-petitions-assembly-list.csv\n",
    "- 타겟 CSV : petitions-assembly-dataset.csv\n",
    "- 추출 컬럼 : rowNum,petitRealmNm, petitSj, petitCn, agreCo, agreBeginDe, agreEndDe\n",
    "- 데이터 매핑(원본 컬럼명 : 타켓 컬럼명)<br/>\n",
    "  rowNum : rowno<br/>\n",
    "  petitRealmNm:catetory<br/>\n",
    "  petitSj:title<br/>\n",
    "  petitCn:content<br/>\n",
    "  agreCo:count<br/>\n",
    "  agreBeginDe:start<br/>\n",
    "  agreEndDe:end<br/>\n",
    "- 날짜는 yyyy-mm-dd 형태로 저장"
   ]
  },
  {
   "cell_type": "code",
   "execution_count": 1,
   "metadata": {},
   "outputs": [],
   "source": [
    "# 셀 1: 필요한 라이브러리 임포트\n",
    "import pandas as pd"
   ]
  },
  {
   "cell_type": "code",
   "execution_count": 2,
   "metadata": {},
   "outputs": [],
   "source": [
    "# 셀 2: 파일 경로 설정\n",
    "input_file = 'extracted-crawling-petitions-assembly-list.csv'\n",
    "output_file = 'petitions-assembly-dataset.csv'"
   ]
  },
  {
   "cell_type": "code",
   "execution_count": 3,
   "metadata": {},
   "outputs": [],
   "source": [
    "# 셀 3: 추출할 열 목록 및 매핑\n",
    "columns_to_extract = {\n",
    "    'rowNum': 'rowno',\n",
    "    'petitRealmNm': 'category',\n",
    "    'petitSj': 'title',\n",
    "    'petitCn': 'content',\n",
    "    'agreCo': 'count',\n",
    "    'agreBeginDe': 'start',\n",
    "    'agreEndDe': 'end'\n",
    "}"
   ]
  },
  {
   "cell_type": "code",
   "execution_count": 4,
   "metadata": {},
   "outputs": [],
   "source": [
    "# 셀 4: CSV 파일 읽기\n",
    "df = pd.read_csv(input_file)"
   ]
  },
  {
   "cell_type": "code",
   "execution_count": 5,
   "metadata": {},
   "outputs": [],
   "source": [
    "# 셀 5: 특정 열만 추출하고 열 이름 변경\n",
    "df_extracted = df[list(columns_to_extract.keys())].rename(columns=columns_to_extract)"
   ]
  },
  {
   "cell_type": "code",
   "execution_count": 6,
   "metadata": {},
   "outputs": [],
   "source": [
    "# 셀 6: 날짜 형식 변환\n",
    "df_extracted['start'] = pd.to_datetime(df_extracted['start']).dt.strftime('%Y-%m-%d')\n",
    "df_extracted['end'] = pd.to_datetime(df_extracted['end']).dt.strftime('%Y-%m-%d')"
   ]
  },
  {
   "cell_type": "code",
   "execution_count": 7,
   "metadata": {},
   "outputs": [
    {
     "name": "stdout",
     "output_type": "stream",
     "text": [
      "추출된 데이터가 petitions-assembly-dataset.csv에 저장되었습니다.\n"
     ]
    }
   ],
   "source": [
    "# 셀 7: 새로운 CSV 파일로 저장\n",
    "df_extracted.to_csv(output_file, index=False)\n",
    "\n",
    "print(f\"추출된 데이터가 {output_file}에 저장되었습니다.\")"
   ]
  }
 ],
 "metadata": {
  "kernelspec": {
   "display_name": ".venv",
   "language": "python",
   "name": "python3"
  },
  "language_info": {
   "codemirror_mode": {
    "name": "ipython",
    "version": 3
   },
   "file_extension": ".py",
   "mimetype": "text/x-python",
   "name": "python",
   "nbconvert_exporter": "python",
   "pygments_lexer": "ipython3",
   "version": "3.10.14"
  }
 },
 "nbformat": 4,
 "nbformat_minor": 2
}
