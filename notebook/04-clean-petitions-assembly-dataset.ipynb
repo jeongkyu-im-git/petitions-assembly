{
 "cells": [
  {
   "cell_type": "markdown",
   "metadata": {},
   "source": [
    "### Copilot chat\n",
    " \n",
    "원본 CSV 파일에서 아래 규칙을 적용하여 대상 CSV 파일로 저장하는 파이썬 코드를 만들어줘.\n",
    " \n",
    "- 원본 CSV 파일 : petitions-assembly-dataset.csv\n",
    "- 대상 CSV 파일 : petitions-assembly-dataset-clean.csv\n",
    "- title, content 컬럼에 대해서 정규식을 적용\n",
    "- 모든 문자에서 엔터와 탭을 공백으로 치환.\n",
    "- 모든 특수 문자를 제거.(단, 콤마, 마침표는 제외)\n",
    "\n",
    "dataset에서 불필요한 데이터를 제거합니다."
   ]
  },
  {
   "cell_type": "code",
   "execution_count": 1,
   "metadata": {},
   "outputs": [],
   "source": [
    "# 셀 1: 필요한 라이브러리 임포트\n",
    "import pandas as pd\n",
    "import re"
   ]
  },
  {
   "cell_type": "code",
   "execution_count": 2,
   "metadata": {},
   "outputs": [],
   "source": [
    "# 셀 2: 파일 경로 설정\n",
    "input_file = 'petitions-assembly-dataset.csv'\n",
    "output_file = 'petitions-assembly-dataset-clean.csv'"
   ]
  },
  {
   "cell_type": "code",
   "execution_count": 3,
   "metadata": {},
   "outputs": [],
   "source": [
    "# 셀 3: 엔터, 탭을 공백으로 치환하고, 특수 문자를 제거하는 함수 정의 (콤마와 마침표는 제외)\n",
    "def clean_text(text):\n",
    "    # 엔터와 탭을 공백으로 치환\n",
    "    text = re.sub(r'[\\n\\t]', ' ', str(text))\n",
    "    # 특수 문자를 제거 (콤마와 마침표는 제외)\n",
    "    text = re.sub(r'[^A-Za-z0-9가-힣,\\. ]', '', text)\n",
    "    return text"
   ]
  },
  {
   "cell_type": "code",
   "execution_count": 4,
   "metadata": {},
   "outputs": [],
   "source": [
    "# 셀 4: CSV 파일 읽기\n",
    "df = pd.read_csv(input_file)"
   ]
  },
  {
   "cell_type": "code",
   "execution_count": 5,
   "metadata": {},
   "outputs": [],
   "source": [
    "# 셀 5: 대상 컬럼 목록\n",
    "target_columns = ['title', 'content']"
   ]
  },
  {
   "cell_type": "code",
   "execution_count": 6,
   "metadata": {},
   "outputs": [],
   "source": [
    "# 셀 6: 대상 컬럼에 대해 엔터, 탭 및 특수 문자 제거 적용\n",
    "for column in target_columns:\n",
    "    df[column] = df[column].apply(clean_text)"
   ]
  },
  {
   "cell_type": "code",
   "execution_count": 7,
   "metadata": {},
   "outputs": [
    {
     "name": "stdout",
     "output_type": "stream",
     "text": [
      "정리된 데이터가 petitions-assembly-dataset-clean.csv에 저장되었습니다.\n"
     ]
    }
   ],
   "source": [
    "# 셀 7: 새로운 CSV 파일로 저장\n",
    "df.to_csv(output_file, index=False)\n",
    "\n",
    "print(f\"정리된 데이터가 {output_file}에 저장되었습니다.\")"
   ]
  }
 ],
 "metadata": {
  "kernelspec": {
   "display_name": ".venv",
   "language": "python",
   "name": "python3"
  },
  "language_info": {
   "codemirror_mode": {
    "name": "ipython",
    "version": 3
   },
   "file_extension": ".py",
   "mimetype": "text/x-python",
   "name": "python",
   "nbconvert_exporter": "python",
   "pygments_lexer": "ipython3",
   "version": "3.9.13"
  }
 },
 "nbformat": 4,
 "nbformat_minor": 2
}
